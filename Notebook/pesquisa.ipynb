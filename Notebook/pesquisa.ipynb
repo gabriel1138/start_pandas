{
 "cells": [
  {
   "cell_type": "code",
   "execution_count": 1,
   "metadata": {},
   "outputs": [],
   "source": [
    "#importação das bibliotecas, utilizadas para este projeto\n",
    "import pandas as pd\n",
    "import numpy as np \n",
    "from datetime import datetime"
   ]
  },
  {
   "cell_type": "code",
   "execution_count": 2,
   "metadata": {},
   "outputs": [],
   "source": [
    "#lendo o arquivo e especificando os parametros necessarios  como delimitador e cabeçalho(header) que fica na linha 1\n",
    "\n",
    "df = pd.read_csv(r'E:\\estudoanac\\dados\\dadosconsumidor2020.csv',sep = ';',low_memory = False,header=1)\n",
    "pd.set_option('display.max_columns', 500) # Comando para visualizar todas as colunas do daframe"
   ]
  },
  {
   "cell_type": "code",
   "execution_count": 3,
   "metadata": {},
   "outputs": [
    {
     "data": {
      "text/html": [
       "<div>\n",
       "<style scoped>\n",
       "    .dataframe tbody tr th:only-of-type {\n",
       "        vertical-align: middle;\n",
       "    }\n",
       "\n",
       "    .dataframe tbody tr th {\n",
       "        vertical-align: top;\n",
       "    }\n",
       "\n",
       "    .dataframe thead th {\n",
       "        text-align: right;\n",
       "    }\n",
       "</style>\n",
       "<table border=\"1\" class=\"dataframe\">\n",
       "  <thead>\n",
       "    <tr style=\"text-align: right;\">\n",
       "      <th></th>\n",
       "      <th>Gestor</th>\n",
       "      <th>Região</th>\n",
       "      <th>UF</th>\n",
       "      <th>Cidade</th>\n",
       "      <th>Ano Abertura</th>\n",
       "      <th>Mês Abertura</th>\n",
       "      <th>Data Abertura</th>\n",
       "      <th>Data e Hora Resposta</th>\n",
       "      <th>Data e Hora Análise</th>\n",
       "      <th>Data e Hora Recusa</th>\n",
       "      <th>Data Finalização</th>\n",
       "      <th>Prazo Resposta</th>\n",
       "      <th>Prazo Análise Gestor (em dias)</th>\n",
       "      <th>Tempo Resposta (em dias)</th>\n",
       "      <th>Nome Fantasia</th>\n",
       "      <th>Área</th>\n",
       "      <th>Assunto</th>\n",
       "      <th>Grupo Problema</th>\n",
       "      <th>Problema</th>\n",
       "      <th>Forma Contrato</th>\n",
       "      <th>Procurou Empresa</th>\n",
       "      <th>Respondida</th>\n",
       "      <th>Situação</th>\n",
       "      <th>Avaliação Reclamação</th>\n",
       "      <th>Nota do Consumidor</th>\n",
       "      <th>Edição de Conteúdo</th>\n",
       "      <th>Interação do Gestor</th>\n",
       "      <th>Código Classificador ANAC</th>\n",
       "    </tr>\n",
       "  </thead>\n",
       "  <tbody>\n",
       "    <tr>\n",
       "      <th>0</th>\n",
       "      <td>Secretaria Nacional do Consumidor</td>\n",
       "      <td>CO</td>\n",
       "      <td>DF</td>\n",
       "      <td>Brasília</td>\n",
       "      <td>2020</td>\n",
       "      <td>1</td>\n",
       "      <td>2020-01-01</td>\n",
       "      <td>2020-01-02 21:22:21</td>\n",
       "      <td>NaN</td>\n",
       "      <td>NaN</td>\n",
       "      <td>2020-01-23</td>\n",
       "      <td>2020-01-16</td>\n",
       "      <td>NaN</td>\n",
       "      <td>2.0</td>\n",
       "      <td>Gol Linhas Aéreas</td>\n",
       "      <td>Demais Serviços</td>\n",
       "      <td>Programas de Fidelidade / Benefícios (pontos, ...</td>\n",
       "      <td>Atendimento / SAC</td>\n",
       "      <td>Má qualidade no atendimento (descortesia / des...</td>\n",
       "      <td>Internet</td>\n",
       "      <td>S</td>\n",
       "      <td>S</td>\n",
       "      <td>Finalizada não avaliada</td>\n",
       "      <td>Não Avaliada</td>\n",
       "      <td>NaN</td>\n",
       "      <td>N</td>\n",
       "      <td>N</td>\n",
       "      <td>N;I;SCL;I;P;7100/8000</td>\n",
       "    </tr>\n",
       "    <tr>\n",
       "      <th>1</th>\n",
       "      <td>Secretaria Nacional do Consumidor</td>\n",
       "      <td>CO</td>\n",
       "      <td>DF</td>\n",
       "      <td>Brasília</td>\n",
       "      <td>2020</td>\n",
       "      <td>1</td>\n",
       "      <td>2020-01-01</td>\n",
       "      <td>2020-01-03 09:46:14</td>\n",
       "      <td>NaN</td>\n",
       "      <td>NaN</td>\n",
       "      <td>2020-01-24</td>\n",
       "      <td>2020-01-16</td>\n",
       "      <td>NaN</td>\n",
       "      <td>3.0</td>\n",
       "      <td>Gol Linhas Aéreas</td>\n",
       "      <td>Transportes</td>\n",
       "      <td>Aéreo</td>\n",
       "      <td>Contrato / Oferta</td>\n",
       "      <td>Oferta não cumprida / serviço não fornecido/ v...</td>\n",
       "      <td>Internet</td>\n",
       "      <td>S</td>\n",
       "      <td>S</td>\n",
       "      <td>Finalizada não avaliada</td>\n",
       "      <td>Não Avaliada</td>\n",
       "      <td>NaN</td>\n",
       "      <td>N</td>\n",
       "      <td>N</td>\n",
       "      <td>N;I;O;I;P;9900</td>\n",
       "    </tr>\n",
       "    <tr>\n",
       "      <th>2</th>\n",
       "      <td>Secretaria Nacional do Consumidor</td>\n",
       "      <td>CO</td>\n",
       "      <td>DF</td>\n",
       "      <td>Brasília</td>\n",
       "      <td>2020</td>\n",
       "      <td>1</td>\n",
       "      <td>2020-01-01</td>\n",
       "      <td>2020-01-06 11:27:13</td>\n",
       "      <td>NaN</td>\n",
       "      <td>NaN</td>\n",
       "      <td>2020-01-27</td>\n",
       "      <td>2020-01-16</td>\n",
       "      <td>NaN</td>\n",
       "      <td>6.0</td>\n",
       "      <td>Latam Airlines (Tam)</td>\n",
       "      <td>Demais Serviços</td>\n",
       "      <td>Programas de Fidelidade / Benefícios (pontos, ...</td>\n",
       "      <td>Vício de Qualidade</td>\n",
       "      <td>Serviço não realizado no prazo ou incompleto</td>\n",
       "      <td>Internet</td>\n",
       "      <td>S</td>\n",
       "      <td>S</td>\n",
       "      <td>Finalizada não avaliada</td>\n",
       "      <td>Não Avaliada</td>\n",
       "      <td>NaN</td>\n",
       "      <td>N</td>\n",
       "      <td>N</td>\n",
       "      <td>N;I;O;D;P;7900</td>\n",
       "    </tr>\n",
       "  </tbody>\n",
       "</table>\n",
       "</div>"
      ],
      "text/plain": [
       "                              Gestor Região  UF    Cidade  Ano Abertura  \\\n",
       "0  Secretaria Nacional do Consumidor     CO  DF  Brasília          2020   \n",
       "1  Secretaria Nacional do Consumidor     CO  DF  Brasília          2020   \n",
       "2  Secretaria Nacional do Consumidor     CO  DF  Brasília          2020   \n",
       "\n",
       "   Mês Abertura Data Abertura Data e Hora Resposta Data e Hora Análise  \\\n",
       "0             1    2020-01-01  2020-01-02 21:22:21                 NaN   \n",
       "1             1    2020-01-01  2020-01-03 09:46:14                 NaN   \n",
       "2             1    2020-01-01  2020-01-06 11:27:13                 NaN   \n",
       "\n",
       "  Data e Hora Recusa Data Finalização Prazo Resposta  \\\n",
       "0                NaN       2020-01-23     2020-01-16   \n",
       "1                NaN       2020-01-24     2020-01-16   \n",
       "2                NaN       2020-01-27     2020-01-16   \n",
       "\n",
       "   Prazo Análise Gestor (em dias)  Tempo Resposta (em dias)  \\\n",
       "0                             NaN                       2.0   \n",
       "1                             NaN                       3.0   \n",
       "2                             NaN                       6.0   \n",
       "\n",
       "          Nome Fantasia              Área  \\\n",
       "0     Gol Linhas Aéreas  Demais Serviços    \n",
       "1     Gol Linhas Aéreas       Transportes   \n",
       "2  Latam Airlines (Tam)  Demais Serviços    \n",
       "\n",
       "                                             Assunto      Grupo Problema  \\\n",
       "0  Programas de Fidelidade / Benefícios (pontos, ...   Atendimento / SAC   \n",
       "1                                              Aéreo   Contrato / Oferta   \n",
       "2  Programas de Fidelidade / Benefícios (pontos, ...  Vício de Qualidade   \n",
       "\n",
       "                                            Problema Forma Contrato  \\\n",
       "0  Má qualidade no atendimento (descortesia / des...       Internet   \n",
       "1  Oferta não cumprida / serviço não fornecido/ v...       Internet   \n",
       "2       Serviço não realizado no prazo ou incompleto       Internet   \n",
       "\n",
       "  Procurou Empresa Respondida                 Situação Avaliação Reclamação  \\\n",
       "0                S          S  Finalizada não avaliada         Não Avaliada   \n",
       "1                S          S  Finalizada não avaliada         Não Avaliada   \n",
       "2                S          S  Finalizada não avaliada         Não Avaliada   \n",
       "\n",
       "   Nota do Consumidor Edição de Conteúdo Interação do Gestor  \\\n",
       "0                 NaN                  N                   N   \n",
       "1                 NaN                  N                   N   \n",
       "2                 NaN                  N                   N   \n",
       "\n",
       "  Código Classificador ANAC  \n",
       "0     N;I;SCL;I;P;7100/8000  \n",
       "1            N;I;O;I;P;9900  \n",
       "2            N;I;O;D;P;7900  "
      ]
     },
     "execution_count": 3,
     "metadata": {},
     "output_type": "execute_result"
    }
   ],
   "source": [
    "#Visualizar as primeiras linhas do dataframe\n",
    "df.head(3)"
   ]
  },
  {
   "cell_type": "code",
   "execution_count": 4,
   "metadata": {},
   "outputs": [
    {
     "name": "stdout",
     "output_type": "stream",
     "text": [
      "<class 'pandas.core.frame.DataFrame'>\n",
      "RangeIndex: 66956 entries, 0 to 66955\n",
      "Data columns (total 28 columns):\n",
      " #   Column                          Non-Null Count  Dtype  \n",
      "---  ------                          --------------  -----  \n",
      " 0   Gestor                          66956 non-null  object \n",
      " 1   Região                          66956 non-null  object \n",
      " 2   UF                              66956 non-null  object \n",
      " 3   Cidade                          66956 non-null  object \n",
      " 4   Ano Abertura                    66956 non-null  int64  \n",
      " 5   Mês Abertura                    66956 non-null  int64  \n",
      " 6   Data Abertura                   66956 non-null  object \n",
      " 7   Data e Hora Resposta            66661 non-null  object \n",
      " 8   Data e Hora Análise             925 non-null    object \n",
      " 9   Data e Hora Recusa              925 non-null    object \n",
      " 10  Data Finalização                66956 non-null  object \n",
      " 11  Prazo Resposta                  66956 non-null  object \n",
      " 12  Prazo Análise Gestor (em dias)  925 non-null    float64\n",
      " 13  Tempo Resposta (em dias)        66661 non-null  float64\n",
      " 14  Nome Fantasia                   66956 non-null  object \n",
      " 15  Área                            66956 non-null  object \n",
      " 16  Assunto                         66956 non-null  object \n",
      " 17  Grupo Problema                  66956 non-null  object \n",
      " 18  Problema                        66956 non-null  object \n",
      " 19  Forma Contrato                  66956 non-null  object \n",
      " 20  Procurou Empresa                66956 non-null  object \n",
      " 21  Respondida                      66956 non-null  object \n",
      " 22  Situação                        66956 non-null  object \n",
      " 23  Avaliação Reclamação            66956 non-null  object \n",
      " 24  Nota do Consumidor              40776 non-null  float64\n",
      " 25  Edição de Conteúdo              66956 non-null  object \n",
      " 26  Interação do Gestor             66956 non-null  object \n",
      " 27  Código Classificador ANAC       66956 non-null  object \n",
      "dtypes: float64(3), int64(2), object(23)\n",
      "memory usage: 14.3+ MB\n"
     ]
    }
   ],
   "source": [
    "#Identificar os tipos de dados e o nome de cada coluna,é possivel ver que algumas colunas de data foram armazenadas como object(string),e podemos ver\n",
    "#que algumas colunas possuem acentuação,vamos padronizar os nomes removendo os acentos\n",
    "df.info()"
   ]
  },
  {
   "cell_type": "code",
   "execution_count": 5,
   "metadata": {},
   "outputs": [
    {
     "data": {
      "text/plain": [
       "Index(['Gestor', 'Região', 'UF', 'Cidade', 'Ano Abertura', 'Mês Abertura',\n",
       "       'Data Abertura', 'Data e Hora Resposta', 'Data e Hora Análise',\n",
       "       'Data e Hora Recusa', 'Data Finalização', 'Prazo Resposta',\n",
       "       'Prazo Análise Gestor (em dias)', 'Tempo Resposta (em dias)',\n",
       "       'Nome Fantasia', 'Área', 'Assunto', 'Grupo Problema', 'Problema',\n",
       "       'Forma Contrato', 'Procurou Empresa', 'Respondida', 'Situação',\n",
       "       'Avaliação Reclamação', 'Nota do Consumidor', 'Edição de Conteúdo',\n",
       "       'Interação do Gestor', 'Código Classificador ANAC'],\n",
       "      dtype='object')"
      ]
     },
     "execution_count": 5,
     "metadata": {},
     "output_type": "execute_result"
    }
   ],
   "source": [
    "df.columns"
   ]
  },
  {
   "cell_type": "code",
   "execution_count": 6,
   "metadata": {},
   "outputs": [
    {
     "data": {
      "text/plain": [
       "Index(['Gestor', 'Regiao', 'UF', 'Cidade', 'Ano Abertura', 'Mes Abertura',\n",
       "       'Data Abertura', 'Data e Hora Resposta', 'Data e Hora Análise',\n",
       "       'Data e Hora Recusa', 'Data Finalizacao', 'Prazo Resposta',\n",
       "       'Prazo Análise Gestor (em dias)', 'Tempo Resposta (em dias)',\n",
       "       'Nome Fantasia', 'Area', 'Assunto', 'Grupo Problema', 'Problema',\n",
       "       'Forma Contrato', 'Procurou Empresa', 'Respondida', 'Situacao',\n",
       "       'Avaliacao Reclamacao', 'Nota do Consumidor', 'Edição de Conteúdo',\n",
       "       'Interação do Gestor', 'Código Classificador ANAC'],\n",
       "      dtype='object')"
      ]
     },
     "execution_count": 6,
     "metadata": {},
     "output_type": "execute_result"
    }
   ],
   "source": [
    "#Usando metodo rename para renomear as colunas e remover acentos,neste metodo usamos um dicionario {}contendo chave : valor\n",
    "df.rename(columns={'Região':'Regiao','Mês Abertura':'Mes Abertura','Data Finalização':'Data Finalizacao','Área':'Area','Situação':'Situacao','Avaliação Reclamação':'Avaliacao Reclamacao'}\n",
    "          ,inplace= True)\n",
    "df.columns"
   ]
  },
  {
   "cell_type": "code",
   "execution_count": 7,
   "metadata": {},
   "outputs": [
    {
     "data": {
      "text/plain": [
       "(66956, 28)"
      ]
     },
     "execution_count": 7,
     "metadata": {},
     "output_type": "execute_result"
    }
   ],
   "source": [
    "#No total temos 28 colunas,mas nem todas são necessarias para nosso projeto ,vamos remover colunas desnecessarias com o metodo DROP\n",
    "df.shape"
   ]
  },
  {
   "cell_type": "code",
   "execution_count": 8,
   "metadata": {},
   "outputs": [
    {
     "data": {
      "text/plain": [
       "(66956, 20)"
      ]
     },
     "execution_count": 8,
     "metadata": {},
     "output_type": "execute_result"
    }
   ],
   "source": [
    "#Com o metodo drop fizemos a exclusão de  8 colunas, deixando o Dataframe mais enxuto para manipulação\n",
    "df.drop(['Data e Hora Análise','Data e Hora Recusa', 'Prazo Análise Gestor (em dias)','Tempo Resposta (em dias)','Nome Fantasia',\n",
    "        'Edição de Conteúdo','Interação do Gestor','Código Classificador ANAC'],axis= 1,inplace= True)\n",
    "df.shape"
   ]
  },
  {
   "cell_type": "code",
   "execution_count": 9,
   "metadata": {},
   "outputs": [
    {
     "data": {
      "text/plain": [
       "Index(['GESTOR', 'REGIAO', 'UF', 'CIDADE', 'ANO_ABERTURA', 'MES_ABERTURA',\n",
       "       'DATA_ABERTURA', 'DATA_E_HORA_RESPOSTA', 'DATA_FINALIZACAO',\n",
       "       'PRAZO_RESPOSTA', 'AREA', 'ASSUNTO', 'GRUPO_PROBLEMA', 'PROBLEMA',\n",
       "       'FORMA_CONTRATO', 'PROCUROU_EMPRESA', 'RESPONDIDA', 'SITUACAO',\n",
       "       'AVALIACAO_RECLAMACAO', 'NOTA_DO_CONSUMIDOR'],\n",
       "      dtype='object')"
      ]
     },
     "execution_count": 9,
     "metadata": {},
     "output_type": "execute_result"
    }
   ],
   "source": [
    "#Utilizando list comprehension para capitalizar os nomes das colunas e substituir o espaço por _\n",
    "# É uma forma pratica e eficaz para tratar nomes de colunas \n",
    "df.columns = [ s.upper().replace(' ','_') for s in df.columns]\n",
    "df.columns"
   ]
  },
  {
   "cell_type": "code",
   "execution_count": 10,
   "metadata": {},
   "outputs": [
    {
     "data": {
      "text/plain": [
       "GESTOR                   object\n",
       "REGIAO                   object\n",
       "UF                       object\n",
       "CIDADE                   object\n",
       "ANO_ABERTURA              int64\n",
       "MES_ABERTURA              int64\n",
       "DATA_ABERTURA            object\n",
       "DATA_E_HORA_RESPOSTA     object\n",
       "DATA_FINALIZACAO         object\n",
       "PRAZO_RESPOSTA           object\n",
       "AREA                     object\n",
       "ASSUNTO                  object\n",
       "GRUPO_PROBLEMA           object\n",
       "PROBLEMA                 object\n",
       "FORMA_CONTRATO           object\n",
       "PROCUROU_EMPRESA         object\n",
       "RESPONDIDA               object\n",
       "SITUACAO                 object\n",
       "AVALIACAO_RECLAMACAO     object\n",
       "NOTA_DO_CONSUMIDOR      float64\n",
       "dtype: object"
      ]
     },
     "execution_count": 10,
     "metadata": {},
     "output_type": "execute_result"
    }
   ],
   "source": [
    "#Dtypes podemos identificar o tipo de dados das colunas temos 4 colunas de data que estão no formato object\n",
    "#para fazer manipulações adequadas vamos converter para o formato data \n",
    "df.dtypes"
   ]
  },
  {
   "cell_type": "code",
   "execution_count": 47,
   "metadata": {},
   "outputs": [
    {
     "data": {
      "text/plain": [
       "GESTOR                          object\n",
       "REGIAO                          object\n",
       "UF                              object\n",
       "CIDADE                          object\n",
       "ANO_ABERTURA                     int64\n",
       "MES_ABERTURA                     int64\n",
       "DATA_ABERTURA           datetime64[ns]\n",
       "DATA_E_HORA_RESPOSTA    datetime64[ns]\n",
       "DATA_FINALIZACAO        datetime64[ns]\n",
       "PRAZO_RESPOSTA          datetime64[ns]\n",
       "AREA                            object\n",
       "ASSUNTO                         object\n",
       "GRUPO_PROBLEMA                  object\n",
       "PROBLEMA                        object\n",
       "FORMA_CONTRATO                  object\n",
       "PROCUROU_EMPRESA                object\n",
       "RESPONDIDA                      object\n",
       "SITUACAO                        object\n",
       "AVALIACAO_RECLAMACAO            object\n",
       "NOTA_DO_CONSUMIDOR             float64\n",
       "TRIMESTRE                        int32\n",
       "dtype: object"
      ]
     },
     "execution_count": 47,
     "metadata": {},
     "output_type": "execute_result"
    }
   ],
   "source": [
    "df['DATA_ABERTURA'] = pd.to_datetime(df['DATA_ABERTURA'],format = '%Y%m%d')\n",
    "df['DATA_FINALIZACAO'] = pd.to_datetime(df['DATA_FINALIZACAO'])\n",
    "df['PRAZO_RESPOSTA'] = pd.to_datetime(df['PRAZO_RESPOSTA'])\n",
    "df['DATA_E_HORA_RESPOSTA'] = pd.to_datetime(df['DATA_E_HORA_RESPOSTA'],format = '%d%m%Y')\n",
    "#DATA_E_HORA_RESPOSTA\t\n",
    "\n",
    "\n",
    "df.dtypes"
   ]
  },
  {
   "cell_type": "code",
   "execution_count": 12,
   "metadata": {},
   "outputs": [
    {
     "data": {
      "text/plain": [
       "array(['DF', 'GO', 'MS', 'MT', 'AC', 'AM', 'AP', 'PA', 'RO', 'RR', 'TO',\n",
       "       'AL', 'BA', 'CE', 'MA', 'PB', 'PE', 'PI', 'RN', 'SE', 'PR', 'RS',\n",
       "       'SC', 'ES', 'MG', 'RJ', 'SP'], dtype=object)"
      ]
     },
     "execution_count": 12,
     "metadata": {},
     "output_type": "execute_result"
    }
   ],
   "source": [
    "'''Como a entrada de dados pode ser feita manualmente,vamos checar por erros como espaço que podem gerar dados duplicados,o comando \"unique\"\n",
    "retorna os elementos unicos de cada coluna'''\n",
    "df['UF'].unique()\n"
   ]
  },
  {
   "cell_type": "code",
   "execution_count": 13,
   "metadata": {},
   "outputs": [],
   "source": [
    "#Criando coluna condicional baseado em outra coluna, neste caso uma coluna de trimestre\n",
    "df['TRIMESTRE'] = df['DATA_ABERTURA'].dt.quarter"
   ]
  },
  {
   "cell_type": "code",
   "execution_count": 43,
   "metadata": {},
   "outputs": [
    {
     "data": {
      "text/html": [
       "<div>\n",
       "<style scoped>\n",
       "    .dataframe tbody tr th:only-of-type {\n",
       "        vertical-align: middle;\n",
       "    }\n",
       "\n",
       "    .dataframe tbody tr th {\n",
       "        vertical-align: top;\n",
       "    }\n",
       "\n",
       "    .dataframe thead th {\n",
       "        text-align: right;\n",
       "    }\n",
       "</style>\n",
       "<table border=\"1\" class=\"dataframe\">\n",
       "  <thead>\n",
       "    <tr style=\"text-align: right;\">\n",
       "      <th></th>\n",
       "      <th>DATA_ABERTURA</th>\n",
       "      <th>TRIMESTRE</th>\n",
       "    </tr>\n",
       "  </thead>\n",
       "  <tbody>\n",
       "    <tr>\n",
       "      <th>0</th>\n",
       "      <td>2020-01-01</td>\n",
       "      <td>1</td>\n",
       "    </tr>\n",
       "    <tr>\n",
       "      <th>1</th>\n",
       "      <td>2020-01-01</td>\n",
       "      <td>1</td>\n",
       "    </tr>\n",
       "    <tr>\n",
       "      <th>2</th>\n",
       "      <td>2020-01-01</td>\n",
       "      <td>1</td>\n",
       "    </tr>\n",
       "    <tr>\n",
       "      <th>3</th>\n",
       "      <td>2020-01-02</td>\n",
       "      <td>1</td>\n",
       "    </tr>\n",
       "    <tr>\n",
       "      <th>4</th>\n",
       "      <td>2020-01-02</td>\n",
       "      <td>1</td>\n",
       "    </tr>\n",
       "    <tr>\n",
       "      <th>...</th>\n",
       "      <td>...</td>\n",
       "      <td>...</td>\n",
       "    </tr>\n",
       "    <tr>\n",
       "      <th>66951</th>\n",
       "      <td>2020-07-25</td>\n",
       "      <td>3</td>\n",
       "    </tr>\n",
       "    <tr>\n",
       "      <th>66952</th>\n",
       "      <td>2020-08-30</td>\n",
       "      <td>3</td>\n",
       "    </tr>\n",
       "    <tr>\n",
       "      <th>66953</th>\n",
       "      <td>2020-11-13</td>\n",
       "      <td>4</td>\n",
       "    </tr>\n",
       "    <tr>\n",
       "      <th>66954</th>\n",
       "      <td>2020-11-26</td>\n",
       "      <td>4</td>\n",
       "    </tr>\n",
       "    <tr>\n",
       "      <th>66955</th>\n",
       "      <td>2020-12-05</td>\n",
       "      <td>4</td>\n",
       "    </tr>\n",
       "  </tbody>\n",
       "</table>\n",
       "<p>66956 rows × 2 columns</p>\n",
       "</div>"
      ],
      "text/plain": [
       "      DATA_ABERTURA  TRIMESTRE\n",
       "0        2020-01-01          1\n",
       "1        2020-01-01          1\n",
       "2        2020-01-01          1\n",
       "3        2020-01-02          1\n",
       "4        2020-01-02          1\n",
       "...             ...        ...\n",
       "66951    2020-07-25          3\n",
       "66952    2020-08-30          3\n",
       "66953    2020-11-13          4\n",
       "66954    2020-11-26          4\n",
       "66955    2020-12-05          4\n",
       "\n",
       "[66956 rows x 2 columns]"
      ]
     },
     "execution_count": 43,
     "metadata": {},
     "output_type": "execute_result"
    }
   ],
   "source": [
    "df[['DATA_ABERTURA','TRIMESTRE']]"
   ]
  },
  {
   "cell_type": "code",
   "execution_count": 20,
   "metadata": {},
   "outputs": [
    {
     "data": {
      "text/plain": [
       "UF\n",
       "SP    15291\n",
       "MG     7184\n",
       "DF     6195\n",
       "RJ     5828\n",
       "PR     4933\n",
       "RS     4094\n",
       "SC     3412\n",
       "BA     2718\n",
       "CE     2321\n",
       "PE     1910\n",
       "GO     1852\n",
       "ES     1817\n",
       "MT     1197\n",
       "PA     1128\n",
       "AM      975\n",
       "MA      830\n",
       "MS      759\n",
       "PB      717\n",
       "RN      657\n",
       "PI      645\n",
       "RO      559\n",
       "AL      468\n",
       "SE      414\n",
       "TO      365\n",
       "AC      282\n",
       "RR      218\n",
       "AP      187\n",
       "Name: count, dtype: int64"
      ]
     },
     "execution_count": 20,
     "metadata": {},
     "output_type": "execute_result"
    }
   ],
   "source": [
    "'''# Agora que ja temos um dataframe mais enxuto e com os dados tratados podemos salvar os dados em diferentes formatos\n",
    "como .xlsx , .parquet. ou gravar os dados em algum banco de dados local ou na nuvem, ou se necessario responder perguntas de negocio\n",
    "como por exempleo, qual maior incidencia de reclamação por estado '''\n",
    "df['UF'].value_counts()"
   ]
  },
  {
   "cell_type": "code",
   "execution_count": 57,
   "metadata": {},
   "outputs": [],
   "source": [
    "#Calculando a quantidade de dias para finalizar uma ocorrencia que ja foi respondida\n",
    "df['DIAS_FINALIZACAO'] = (df['DATA_FINALIZACAO'] - df['DATA_E_HORA_RESPOSTA']).dt.days\n"
   ]
  },
  {
   "cell_type": "code",
   "execution_count": 72,
   "metadata": {},
   "outputs": [],
   "source": [
    "#Usando Fillna para preencher valores faltantes \n",
    "df['DIAS_FINALIZACAO'].fillna(0,inplace= True) \n"
   ]
  },
  {
   "cell_type": "code",
   "execution_count": 76,
   "metadata": {},
   "outputs": [],
   "source": [
    "# E por fim convertendo a nova coluna para numero inteiro \n",
    "df['DIAS_FINALIZACAO']   =  df['DIAS_FINALIZACAO'].astype('Int32')"
   ]
  },
  {
   "cell_type": "code",
   "execution_count": 78,
   "metadata": {},
   "outputs": [
    {
     "data": {
      "text/html": [
       "<div>\n",
       "<style scoped>\n",
       "    .dataframe tbody tr th:only-of-type {\n",
       "        vertical-align: middle;\n",
       "    }\n",
       "\n",
       "    .dataframe tbody tr th {\n",
       "        vertical-align: top;\n",
       "    }\n",
       "\n",
       "    .dataframe thead th {\n",
       "        text-align: right;\n",
       "    }\n",
       "</style>\n",
       "<table border=\"1\" class=\"dataframe\">\n",
       "  <thead>\n",
       "    <tr style=\"text-align: right;\">\n",
       "      <th></th>\n",
       "      <th>GESTOR</th>\n",
       "      <th>REGIAO</th>\n",
       "      <th>UF</th>\n",
       "      <th>CIDADE</th>\n",
       "      <th>ANO_ABERTURA</th>\n",
       "      <th>MES_ABERTURA</th>\n",
       "      <th>DATA_ABERTURA</th>\n",
       "      <th>DATA_E_HORA_RESPOSTA</th>\n",
       "      <th>DATA_FINALIZACAO</th>\n",
       "      <th>PRAZO_RESPOSTA</th>\n",
       "      <th>AREA</th>\n",
       "      <th>ASSUNTO</th>\n",
       "      <th>GRUPO_PROBLEMA</th>\n",
       "      <th>PROBLEMA</th>\n",
       "      <th>FORMA_CONTRATO</th>\n",
       "      <th>PROCUROU_EMPRESA</th>\n",
       "      <th>RESPONDIDA</th>\n",
       "      <th>SITUACAO</th>\n",
       "      <th>AVALIACAO_RECLAMACAO</th>\n",
       "      <th>NOTA_DO_CONSUMIDOR</th>\n",
       "      <th>TRIMESTRE</th>\n",
       "      <th>DIAS_FINALIZACAO</th>\n",
       "    </tr>\n",
       "  </thead>\n",
       "  <tbody>\n",
       "    <tr>\n",
       "      <th>0</th>\n",
       "      <td>Secretaria Nacional do Consumidor</td>\n",
       "      <td>CO</td>\n",
       "      <td>DF</td>\n",
       "      <td>Brasília</td>\n",
       "      <td>2020</td>\n",
       "      <td>1</td>\n",
       "      <td>2020-01-01</td>\n",
       "      <td>2020-01-02 21:22:21</td>\n",
       "      <td>2020-01-23</td>\n",
       "      <td>2020-01-16</td>\n",
       "      <td>Demais Serviços</td>\n",
       "      <td>Programas de Fidelidade / Benefícios (pontos, ...</td>\n",
       "      <td>Atendimento / SAC</td>\n",
       "      <td>Má qualidade no atendimento (descortesia / des...</td>\n",
       "      <td>Internet</td>\n",
       "      <td>S</td>\n",
       "      <td>S</td>\n",
       "      <td>Finalizada não avaliada</td>\n",
       "      <td>Não Avaliada</td>\n",
       "      <td>NaN</td>\n",
       "      <td>1</td>\n",
       "      <td>20</td>\n",
       "    </tr>\n",
       "  </tbody>\n",
       "</table>\n",
       "</div>"
      ],
      "text/plain": [
       "                              GESTOR REGIAO  UF    CIDADE  ANO_ABERTURA  \\\n",
       "0  Secretaria Nacional do Consumidor     CO  DF  Brasília          2020   \n",
       "\n",
       "   MES_ABERTURA DATA_ABERTURA DATA_E_HORA_RESPOSTA DATA_FINALIZACAO  \\\n",
       "0             1    2020-01-01  2020-01-02 21:22:21       2020-01-23   \n",
       "\n",
       "  PRAZO_RESPOSTA              AREA  \\\n",
       "0     2020-01-16  Demais Serviços    \n",
       "\n",
       "                                             ASSUNTO     GRUPO_PROBLEMA  \\\n",
       "0  Programas de Fidelidade / Benefícios (pontos, ...  Atendimento / SAC   \n",
       "\n",
       "                                            PROBLEMA FORMA_CONTRATO  \\\n",
       "0  Má qualidade no atendimento (descortesia / des...       Internet   \n",
       "\n",
       "  PROCUROU_EMPRESA RESPONDIDA                 SITUACAO AVALIACAO_RECLAMACAO  \\\n",
       "0                S          S  Finalizada não avaliada         Não Avaliada   \n",
       "\n",
       "   NOTA_DO_CONSUMIDOR  TRIMESTRE  DIAS_FINALIZACAO  \n",
       "0                 NaN          1                20  "
      ]
     },
     "execution_count": 78,
     "metadata": {},
     "output_type": "execute_result"
    }
   ],
   "source": [
    "df.head(1)"
   ]
  }
 ],
 "metadata": {
  "kernelspec": {
   "display_name": "Python 3",
   "language": "python",
   "name": "python3"
  },
  "language_info": {
   "codemirror_mode": {
    "name": "ipython",
    "version": 3
   },
   "file_extension": ".py",
   "mimetype": "text/x-python",
   "name": "python",
   "nbconvert_exporter": "python",
   "pygments_lexer": "ipython3",
   "version": "3.12.4"
  }
 },
 "nbformat": 4,
 "nbformat_minor": 2
}
